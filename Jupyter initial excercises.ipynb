{
 "cells": [
  {
   "cell_type": "markdown",
   "id": "551f828d",
   "metadata": {},
   "source": [
    "# Hello World"
   ]
  },
  {
   "cell_type": "code",
   "execution_count": 1,
   "id": "ec7a7761",
   "metadata": {},
   "outputs": [
    {
     "name": "stdout",
     "output_type": "stream",
     "text": [
      "Hello World!\n"
     ]
    }
   ],
   "source": [
    "print('Hello World!')"
   ]
  },
  {
   "cell_type": "markdown",
   "id": "f4e23662",
   "metadata": {},
   "source": [
    "# For Excercise #1"
   ]
  },
  {
   "cell_type": "code",
   "execution_count": 8,
   "id": "8d5f7f7e",
   "metadata": {
    "scrolled": false
   },
   "outputs": [
    {
     "name": "stdout",
     "output_type": "stream",
     "text": [
      "1125750\n"
     ]
    }
   ],
   "source": [
    "n=1500\n",
    "s=0\n",
    "for i in range (1,n+1):\n",
    "    s=s+i\n",
    "print(s)"
   ]
  },
  {
   "cell_type": "markdown",
   "id": "265e510b",
   "metadata": {},
   "source": [
    "# For Excercise #2"
   ]
  },
  {
   "cell_type": "code",
   "execution_count": 213,
   "id": "190e8b98",
   "metadata": {},
   "outputs": [
    {
     "name": "stdout",
     "output_type": "stream",
     "text": [
      "1048576\n"
     ]
    }
   ],
   "source": [
    "n=20\n",
    "a=1\n",
    "for i in range (1,n+1):\n",
    "    a=a+a\n",
    "print(a)"
   ]
  },
  {
   "cell_type": "markdown",
   "id": "f52f0149",
   "metadata": {},
   "source": [
    "# For Exercise #3"
   ]
  },
  {
   "cell_type": "code",
   "execution_count": 110,
   "id": "01bb4288",
   "metadata": {},
   "outputs": [
    {
     "name": "stdout",
     "output_type": "stream",
     "text": [
      " Digit[ 0 ]*2^ 0\n",
      " + Digit[ 1 ]*2^ 1\n",
      " + Digit[ 2 ]*2^ 2\n"
     ]
    }
   ],
   "source": [
    "numberofdigits=3\n",
    "\n",
    "for i in range (0,numberofdigits):\n",
    "    if i ==0:\n",
    "        print(\" Digit[\",i,\"]*2^\",i)\n",
    "    else:\n",
    "        print(\" + Digit[\",i,\"]*2^\",i)"
   ]
  },
  {
   "cell_type": "code",
   "execution_count": null,
   "id": "4cb816e3",
   "metadata": {},
   "outputs": [],
   "source": []
  }
 ],
 "metadata": {
  "kernelspec": {
   "display_name": "Python 3 (ipykernel)",
   "language": "python",
   "name": "python3"
  },
  "language_info": {
   "codemirror_mode": {
    "name": "ipython",
    "version": 3
   },
   "file_extension": ".py",
   "mimetype": "text/x-python",
   "name": "python",
   "nbconvert_exporter": "python",
   "pygments_lexer": "ipython3",
   "version": "3.11.0"
  }
 },
 "nbformat": 4,
 "nbformat_minor": 5
}
